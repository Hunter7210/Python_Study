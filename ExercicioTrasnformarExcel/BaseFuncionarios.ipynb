{
 "cells": [
  {
   "cell_type": "code",
   "execution_count": 1,
   "metadata": {},
   "outputs": [
    {
     "name": "stderr",
     "output_type": "stream",
     "text": [
      "C:\\Users\\DevTarde\\AppData\\Local\\Temp\\ipykernel_10260\\4080736814.py:1: DeprecationWarning: \n",
      "Pyarrow will become a required dependency of pandas in the next major release of pandas (pandas 3.0),\n",
      "(to allow more performant data types, such as the Arrow string type, and better interoperability with other libraries)\n",
      "but was not found to be installed on your system.\n",
      "If this would cause problems for you,\n",
      "please provide us feedback at https://github.com/pandas-dev/pandas/issues/54466\n",
      "        \n",
      "  import pandas as pd\n"
     ]
    }
   ],
   "source": [
    "import pandas as pd\n"
   ]
  },
  {
   "cell_type": "code",
   "execution_count": 11,
   "metadata": {},
   "outputs": [
    {
     "name": "stdout",
     "output_type": "stream",
     "text": [
      "<bound method DataFrame.info of      ID RH         RG          CPF  Ramal Estado Civil  \\\n",
      "0        1  455550390  57507179051   6482            C   \n",
      "1        2  732355385  50388536767   6177            C   \n",
      "2        3  943205737  59035293914   7736            C   \n",
      "3        4  968298499  51397043200   5238            C   \n",
      "4        5  332164465   1296878897   5182            C   \n",
      "..     ...        ...          ...    ...          ...   \n",
      "534    535  195532101   2439810843   5239            C   \n",
      "535    536  486535229   4764050200   3572            C   \n",
      "536    537  981279157  54115282873   1376            S   \n",
      "537    538  464550454  16126495226   6269            S   \n",
      "538    539  581607230  53692945235   7334            C   \n",
      "\n",
      "              Nome Completo             Login  Data de Nascimento       CEP  \\\n",
      "0          Gabriel Mesquita  gabriel.mesquita               25569  20125535   \n",
      "1               João Haddad       joão.haddad               27145  25995770   \n",
      "2    Amanda Marques Ribeiro    amanda.ribeiro               32880  37278465   \n",
      "3           Guilherme Nunez   guilherme.nunez               34096  49897703   \n",
      "4             Adelino Gomes     adelino.gomes               27118  30149335   \n",
      "..                      ...               ...                 ...       ...   \n",
      "534      Bernardo da cunha     bernardo.cunha               29034  45499870   \n",
      "535      Julia Novaes Silva       julia.silva               33916  21517794   \n",
      "536            Arthur Bispo      arthur.bispo               34170  34689811   \n",
      "537            Raianne Brum      raianne.brum               32295  31097240   \n",
      "538    Renan Assis da Silva       renan.silva               25721  46713680   \n",
      "\n",
      "     Data de Contratacao  ...  Cargo  Bandeira      Codigos  \\\n",
      "0                  38792  ...    OPV       NaN  UAK1729-MCG   \n",
      "1                  39605  ...    LOI       NaN  QDI6697-POC   \n",
      "2                  39450  ...    ADI       NaN  AJB6796-ZAR   \n",
      "3                  40666  ...   ADII       NaN  UXE5742-IZD   \n",
      "4                  36601  ...   ADII       NaN  OKI6642-TSV   \n",
      "..                   ...  ...    ...       ...          ...   \n",
      "534                37330  ...   LOII       NaN  CKP3287-UEK   \n",
      "535                41578  ...   COII       NaN  XWA4609-XHL   \n",
      "536                40740  ...   COII       NaN  SEA1242-VQT   \n",
      "537                41496  ...    FIV       NaN  QLF8561-NLL   \n",
      "538                37868  ...  FIIII       NaN  CRK2830-LYP   \n",
      "\n",
      "     Quantidade de Acessos  Ferias Acumuladas  Ferias Remuneradas  \\\n",
      "0                      140                 47                 NaN   \n",
      "1                      143                 31                 NaN   \n",
      "2                      110                 60                 NaN   \n",
      "3                      101                 41                 NaN   \n",
      "4                       35                  9                 NaN   \n",
      "..                     ...                ...                 ...   \n",
      "534                     55                 57                 NaN   \n",
      "535                    139                 41                 NaN   \n",
      "536                     60                 35                 NaN   \n",
      "537                     56                 44                 NaN   \n",
      "538                    114                 58                 NaN   \n",
      "\n",
      "     Horas Extras Valores Adicionais  ID de Pessoal ID da area  \n",
      "0              97                NaN            NaN         10  \n",
      "1             166                NaN            NaN        545  \n",
      "2             188                NaN            NaN        213  \n",
      "3             176                NaN            NaN        213  \n",
      "4             121                NaN            NaN        213  \n",
      "..            ...                ...            ...        ...  \n",
      "534            88                NaN            NaN        545  \n",
      "535            44                NaN            NaN         11  \n",
      "536             4                NaN            NaN         11  \n",
      "537           114                NaN            NaN        322  \n",
      "538           142                NaN            NaN        322  \n",
      "\n",
      "[539 rows x 27 columns]>\n"
     ]
    }
   ],
   "source": [
    "\n",
    "df = pd.read_excel('BaseFuncionarios.xlsx')\n",
    "print(df.info)"
   ]
  },
  {
   "cell_type": "code",
   "execution_count": 22,
   "metadata": {},
   "outputs": [
    {
     "name": "stdout",
     "output_type": "stream",
     "text": [
      "1369762.0\n",
      "125510\n",
      "361717.44\n",
      "54774\n",
      "3424405.0\n",
      "361717.44\n"
     ]
    }
   ],
   "source": [
    "#CRIAÇÃO DE CARTÃO\n",
    "\n",
    "\n",
    "print('Beneficios')\n",
    "print(df['Beneficios'].sum())\n",
    "print('VT')\n",
    "print(df['VT'].sum())\n",
    "print('VR')\n",
    "print(df['VR'].sum())\n",
    "print('Horas Extras')\n",
    "print(df['Horas Extras'].sum())\n",
    "print('Impostos')\n",
    "print(df['Impostos'].sum())\n",
    "print(df['VR'].sum())\n",
    "\n"
   ]
  }
 ],
 "metadata": {
  "kernelspec": {
   "display_name": "Python 3",
   "language": "python",
   "name": "python3"
  },
  "language_info": {
   "codemirror_mode": {
    "name": "ipython",
    "version": 3
   },
   "file_extension": ".py",
   "mimetype": "text/x-python",
   "name": "python",
   "nbconvert_exporter": "python",
   "pygments_lexer": "ipython3",
   "version": "3.12.1"
  }
 },
 "nbformat": 4,
 "nbformat_minor": 2
}
