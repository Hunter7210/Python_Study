{
 "cells": [
  {
   "cell_type": "code",
   "execution_count": 67,
   "metadata": {
    "metadata": {}
   },
   "outputs": [],
   "source": [
    "import pandas as pd\n",
    "import matplotlib as plt"
   ]
  },
  {
   "cell_type": "code",
   "execution_count": 68,
   "metadata": {
    "metadata": {}
   },
   "outputs": [],
   "source": [
    "df_supermarket = pd.read_json('supermarket.json')"
   ]
  },
  {
   "cell_type": "code",
   "execution_count": 69,
   "metadata": {
    "metadata": {}
   },
   "outputs": [
    {
     "name": "stdout",
     "output_type": "stream",
     "text": [
      "<bound method NDFrame.head of                                                lojas\n",
      "0  {'id': 1, 'dados_mensais': [{'mes': 1, 'fatura...\n",
      "1  {'id': 2, 'dados_mensais': [{'mes': 1, 'fatura...\n",
      "2  {'id': 3, 'dados_mensais': [{'mes': 1, 'fatura...\n",
      "3  {'id': 4, 'dados_mensais': [{'mes': 1, 'fatura...\n",
      "4  {'id': 5, 'dados_mensais': [{'mes': 1, 'fatura...>\n"
     ]
    }
   ],
   "source": [
    "print(df_supermarket.head)"
   ]
  },
  {
   "cell_type": "code",
   "execution_count": 70,
   "metadata": {
    "metadata": {}
   },
   "outputs": [
    {
     "data": {
      "text/plain": [
       "{'mes': 12,\n",
       " 'faturamento': {'higiene_e_saude': 13600,\n",
       "  'limpeza': 19900,\n",
       "  'bebidas': 8100,\n",
       "  'carne_e_laticinios': 4900,\n",
       "  'alimentacao': 5100},\n",
       " 'gastos_funcionarios': 32000,\n",
       " 'despesas_fornecedores': 27000,\n",
       " 'gastos_diversos': 10500}"
      ]
     },
     "execution_count": 70,
     "metadata": {},
     "output_type": "execute_result"
    }
   ],
   "source": [
    "def extrair_dados_loja_mes(loja_id,mes):\n",
    "    for loja in df_supermarket['lojas']:\n",
    "        if loja['id'] == loja_id:\n",
    "            for dados_mensais in loja['dados_mensais']:\n",
    "                if dados_mensais['mes'] == mes:\n",
    "                    return dados_mensais\n",
    "    return None\n",
    "\n",
    "extrair_dados_loja_mes(5,12) "
   ]
  },
  {
   "cell_type": "code",
   "execution_count": 71,
   "metadata": {
    "metadata": {}
   },
   "outputs": [
    {
     "data": {
      "text/plain": [
       "{'mes': 1,\n",
       " 'faturamento': {'higiene_e_saude': 15200,\n",
       "  'limpeza': 19800,\n",
       "  'bebidas': 8600,\n",
       "  'carne_e_laticinios': 4900,\n",
       "  'alimentacao': 5300},\n",
       " 'gastos_funcionarios': 20000,\n",
       " 'despesas_fornecedores': 15000,\n",
       " 'gastos_diversos': 5000}"
      ]
     },
     "execution_count": 71,
     "metadata": {},
     "output_type": "execute_result"
    }
   ],
   "source": [
    "def faturamento_loja_mes(loja_id,mes):\n",
    "    for loja in df_supermarket['lojas']:\n",
    "        if loja['id'] == loja_id:\n",
    "            for dados_mensais in loja['dados_mensais']:\n",
    "                if dados_mensais['mes'] == mes:\n",
    "                    for faturamento in dados_mensais['faturamento']:   \n",
    "                        faturamento  = sum(dados_mensais['faturamento'].values())\n",
    "                    return faturamento\n",
    "    return None\n",
    "\n",
    "extrair_dados_loja_mes(1,1) "
   ]
  },
  {
   "cell_type": "code",
   "execution_count": 77,
   "metadata": {
    "metadata": {}
   },
   "outputs": [
    {
     "data": {
      "text/plain": [
       "644800"
      ]
     },
     "execution_count": 77,
     "metadata": {},
     "output_type": "execute_result"
    }
   ],
   "source": [
    "def faturamento_loja_ano(loja_id):\n",
    "    faturamento_anual =0\n",
    "    for loja in df_supermarket['lojas']:\n",
    "        if loja['id'] == loja_id:\n",
    "            for dados_mensais in loja['dados_mensais']:\n",
    "                faturamento_anual += sum(dados_mensais['faturamento'].values())\n",
    "            return faturamento_anual\n",
    "    return None\n",
    "\n",
    "faturamento_loja_ano(1) "
   ]
  },
  {
   "cell_type": "code",
   "execution_count": 94,
   "metadata": {
    "metadata": {}
   },
   "outputs": [
    {
     "data": {
      "text/plain": [
       "25000"
      ]
     },
     "execution_count": 94,
     "metadata": {},
     "output_type": "execute_result"
    }
   ],
   "source": [
    "def gastos_dados_loja_mes(loja_id, mes):\n",
    "    for loja in df_supermarket[\"lojas\"]:\n",
    "        if loja[\"id\"] == loja_id:\n",
    "            for dados_mensais in loja[\"dados_mensais\"]:\n",
    "                if dados_mensais[\"mes\"] == mes:\n",
    "                    gastos = dados_mensais[\"gastos_funcionarios\"]+dados_mensais[\"gastos_diversos\"]           \n",
    "        return gastos\n",
    "    return None\n",
    "\n",
    "\n",
    "gastos_dados_loja_mes(1, 1)"
   ]
  },
  {
   "cell_type": "code",
   "execution_count": 95,
   "metadata": {
    "metadata": {}
   },
   "outputs": [],
   "source": [
    "\n",
    "def extrair_lucro_loja_mes(loja_id, mes):\n",
    "    for loja in df_supermarket['lojas']:\n",
    "        if loja['id'] == loja_id:\n",
    "            for dados_mensais in loja['dados_mensais']:\n",
    "                if dados_mensais['mes'] == mes:\n",
    "                    for faturamento in dados_mensais['faturamento']:\n",
    "                        faturamento = sum(dados_mensais['faturamento'].values())\n",
    "                        gastos = dados_mensais['gastos_funcionarios'] + dados_mensais['despesas_fornecedores'] + dados_mensais['gastos_diversos']\n",
    "                        lucro = faturamento - gastos\n",
    "                    return lucro\n",
    "    return None"
   ]
  },
  {
   "cell_type": "code",
   "execution_count": 96,
   "metadata": {
    "metadata": {}
   },
   "outputs": [
    {
     "name": "stdout",
     "output_type": "stream",
     "text": [
      "Lucro Mensal: R$ \n"
     ]
    },
    {
     "data": {
      "text/plain": [
       "13800"
      ]
     },
     "execution_count": 96,
     "metadata": {},
     "output_type": "execute_result"
    }
   ],
   "source": [
    "print('Lucro Mensal: R$ ')\n",
    "extrair_lucro_loja_mes(1,1)"
   ]
  },
  {
   "cell_type": "code",
   "execution_count": 104,
   "metadata": {
    "metadata": {}
   },
   "outputs": [],
   "source": [
    "\n",
    "def extrair_lucro_loja_ano(loja_id):\n",
    "    for loja in df_supermarket['lojas']:\n",
    "        if loja['id'] == loja_id:\n",
    "            lucro_anual = 0\n",
    "            for dados_mensais in loja['dados_mensais']:\n",
    "                faturamento_mes = sum(dados_mensais['faturamento'].values())\n",
    "                gastos_mes = dados_mensais['gastos_funcionarios'] + dados_mensais['despesas_fornecedores'] + dados_mensais['gastos_diversos']\n",
    "                lucro_anual += (faturamento_mes - gastos_mes)\n",
    "            return lucro_anual\n",
    "    return None"
   ]
  },
  {
   "cell_type": "code",
   "execution_count": 105,
   "metadata": {
    "metadata": {}
   },
   "outputs": [
    {
     "name": "stdout",
     "output_type": "stream",
     "text": [
      "Lucro loja por ano\n"
     ]
    },
    {
     "data": {
      "text/plain": [
       "-54500"
      ]
     },
     "execution_count": 105,
     "metadata": {},
     "output_type": "execute_result"
    }
   ],
   "source": [
    "print('Lucro loja por ano')\n",
    "extrair_lucro_loja_ano(5)"
   ]
  }
 ],
 "metadata": {
  "kernelspec": {
   "display_name": "Python 3",
   "language": "python",
   "name": "python3"
  },
  "language_info": {
   "codemirror_mode": {
    "name": "ipython",
    "version": 3
   },
   "file_extension": ".py",
   "mimetype": "text/x-python",
   "name": "python",
   "nbconvert_exporter": "python",
   "pygments_lexer": "ipython3",
   "version": "3.12.1"
  }
 },
 "nbformat": 4,
 "nbformat_minor": 2
}
