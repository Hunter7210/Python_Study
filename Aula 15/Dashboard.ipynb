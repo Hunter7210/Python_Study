{
 "cells": [
  {
   "cell_type": "code",
   "execution_count": 67,
   "metadata": {
    "metadata": {}
   },
   "outputs": [],
   "source": [
    "import pandas as pd\n",
    "import matplotlib as plt"
   ]
  },
  {
   "cell_type": "code",
   "execution_count": 68,
   "metadata": {
    "metadata": {}
   },
   "outputs": [],
   "source": [
    "df_supermarket = pd.read_json('supermarket.json')"
   ]
  },
  {
   "cell_type": "code",
   "execution_count": 69,
   "metadata": {
    "metadata": {}
   },
   "outputs": [
    {
     "name": "stdout",
     "output_type": "stream",
     "text": [
      "<bound method NDFrame.head of                                                lojas\n",
      "0  {'id': 1, 'dados_mensais': [{'mes': 1, 'fatura...\n",
      "1  {'id': 2, 'dados_mensais': [{'mes': 1, 'fatura...\n",
      "2  {'id': 3, 'dados_mensais': [{'mes': 1, 'fatura...\n",
      "3  {'id': 4, 'dados_mensais': [{'mes': 1, 'fatura...\n",
      "4  {'id': 5, 'dados_mensais': [{'mes': 1, 'fatura...>\n"
     ]
    }
   ],
   "source": [
    "print(df_supermarket.head)"
   ]
  },
  {
   "cell_type": "code",
   "execution_count": 70,
   "metadata": {
    "metadata": {}
   },
   "outputs": [
    {
     "data": {
      "text/plain": [
       "{'mes': 12,\n",
       " 'faturamento': {'higiene_e_saude': 13600,\n",
       "  'limpeza': 19900,\n",
       "  'bebidas': 8100,\n",
       "  'carne_e_laticinios': 4900,\n",
       "  'alimentacao': 5100},\n",
       " 'gastos_funcionarios': 32000,\n",
       " 'despesas_fornecedores': 27000,\n",
       " 'gastos_diversos': 10500}"
      ]
     },
     "execution_count": 70,
     "metadata": {},
     "output_type": "execute_result"
    }
   ],
   "source": [
    "def extrair_dados_loja_mes(loja_id,mes):\n",
    "    for loja in df_supermarket['lojas']:\n",
    "        if loja['id'] == loja_id:\n",
    "            for dados_mensais in loja['dados_mensais']:\n",
    "                if dados_mensais['mes'] == mes:\n",
    "                    return dados_mensais\n",
    "    return None\n",
    "\n",
    "extrair_dados_loja_mes(5,12) "
   ]
  },
  {
   "cell_type": "code",
   "execution_count": 71,
   "metadata": {
    "metadata": {}
   },
   "outputs": [
    {
     "data": {
      "text/plain": [
       "{'mes': 1,\n",
       " 'faturamento': {'higiene_e_saude': 15200,\n",
       "  'limpeza': 19800,\n",
       "  'bebidas': 8600,\n",
       "  'carne_e_laticinios': 4900,\n",
       "  'alimentacao': 5300},\n",
       " 'gastos_funcionarios': 20000,\n",
       " 'despesas_fornecedores': 15000,\n",
       " 'gastos_diversos': 5000}"
      ]
     },
     "execution_count": 71,
     "metadata": {},
     "output_type": "execute_result"
    }
   ],
   "source": [
    "def faturamento_loja_mes(loja_id,mes):\n",
    "    for loja in df_supermarket['lojas']:\n",
    "        if loja['id'] == loja_id:\n",
    "            for dados_mensais in loja['dados_mensais']:\n",
    "                if dados_mensais['mes'] == mes:\n",
    "                    for faturamento in dados_mensais['faturamento']:   \n",
    "                        faturamento  = sum(dados_mensais['faturamento'].values())\n",
    "                    return faturamento\n",
    "    return None\n",
    "\n",
    "extrair_dados_loja_mes(1,1) "
   ]
  },
  {
   "cell_type": "code",
   "execution_count": 77,
   "metadata": {
    "metadata": {}
   },
   "outputs": [
    {
     "data": {
      "text/plain": [
       "644800"
      ]
     },
     "execution_count": 77,
     "metadata": {},
     "output_type": "execute_result"
    }
   ],
   "source": [
    "def faturamento_loja_ano(loja_id):\n",
    "    faturamento_anual =0\n",
    "    for loja in df_supermarket['lojas']:\n",
    "        if loja['id'] == loja_id:\n",
    "            for dados_mensais in loja['dados_mensais']:\n",
    "                faturamento_anual += sum(dados_mensais['faturamento'].values())\n",
    "            return faturamento_anual\n",
    "    return None\n",
    "\n",
    "faturamento_loja_ano(1) "
   ]
  },
  {
   "cell_type": "code",
   "execution_count": 94,
   "metadata": {
    "metadata": {}
   },
   "outputs": [
    {
     "data": {
      "text/plain": [
       "25000"
      ]
     },
     "execution_count": 94,
     "metadata": {},
     "output_type": "execute_result"
    }
   ],
   "source": [
    "def gastos_dados_loja_mes(loja_id, mes):\n",
    "    for loja in df_supermarket[\"lojas\"]:\n",
    "        if loja[\"id\"] == loja_id:\n",
    "            for dados_mensais in loja[\"dados_mensais\"]:\n",
    "                if dados_mensais[\"mes\"] == mes:\n",
    "                    gastos = dados_mensais[\"gastos_funcionarios\"]+dados_mensais[\"gastos_diversos\"]           \n",
    "        return gastos\n",
    "    return None\n",
    "\n",
    "\n",
    "gastos_dados_loja_mes(1, 1)"
   ]
  },
  {
   "cell_type": "code",
   "execution_count": 95,
   "metadata": {
    "metadata": {}
   },
   "outputs": [],
   "source": [
    "\n",
    "def extrair_lucro_loja_mes(loja_id, mes):\n",
    "    for loja in df_supermarket['lojas']:\n",
    "        if loja['id'] == loja_id:\n",
    "            for dados_mensais in loja['dados_mensais']:\n",
    "                if dados_mensais['mes'] == mes:\n",
    "                    for faturamento in dados_mensais['faturamento']:\n",
    "                        faturamento = sum(dados_mensais['faturamento'].values())\n",
    "                        gastos = dados_mensais['gastos_funcionarios'] + dados_mensais['despesas_fornecedores'] + dados_mensais['gastos_diversos']\n",
    "                        lucro = faturamento - gastos\n",
    "                    return lucro\n",
    "    return None"
   ]
  },
  {
   "cell_type": "code",
   "execution_count": 96,
   "metadata": {
    "metadata": {}
   },
   "outputs": [
    {
     "name": "stdout",
     "output_type": "stream",
     "text": [
      "Lucro Mensal: R$ \n"
     ]
    },
    {
     "data": {
      "text/plain": [
       "13800"
      ]
     },
     "execution_count": 96,
     "metadata": {},
     "output_type": "execute_result"
    }
   ],
   "source": [
    "print('Lucro Mensal: R$ ')\n",
    "extrair_lucro_loja_mes(1,1)"
   ]
  },
  {
   "cell_type": "code",
   "execution_count": 104,
   "metadata": {
    "metadata": {}
   },
   "outputs": [],
   "source": [
    "\n",
    "def extrair_lucro_loja_ano(loja_id):\n",
    "    for loja in df_supermarket['lojas']:\n",
    "        if loja['id'] == loja_id:\n",
    "            lucro_anual = 0\n",
    "            for dados_mensais in loja['dados_mensais']:\n",
    "                faturamento_mes = sum(dados_mensais['faturamento'].values())\n",
    "                gastos_mes = dados_mensais['gastos_funcionarios'] + dados_mensais['despesas_fornecedores'] + dados_mensais['gastos_diversos']\n",
    "                lucro_anual += (faturamento_mes - gastos_mes)\n",
    "            return lucro_anual\n",
    "    return None"
   ]
  },
  {
   "cell_type": "code",
   "execution_count": 105,
   "metadata": {
    "metadata": {}
   },
   "outputs": [
    {
     "name": "stdout",
     "output_type": "stream",
     "text": [
      "Lucro loja por ano\n"
     ]
    },
    {
     "data": {
      "text/plain": [
       "-54500"
      ]
     },
     "execution_count": 105,
     "metadata": {},
     "output_type": "execute_result"
    }
   ],
   "source": [
    "print('Lucro loja por ano')\n",
    "extrair_lucro_loja_ano(5)"
   ]
  },
  {
   "cell_type": "code",
   "execution_count": 111,
   "metadata": {
    "metadata": {}
   },
   "outputs": [],
   "source": [
    "for i in range(1,6):\n",
    "    faturamento_anual = faturamento_loja_ano(i)\n",
    "    lucros_mes = extrair_lucro_loja_ano(i)"
   ]
  },
  {
   "cell_type": "code",
   "execution_count": null,
   "metadata": {},
   "outputs": [],
   "source": []
  },
  {
   "cell_type": "code",
   "execution_count": 113,
   "metadata": {
    "metadata": {}
   },
   "outputs": [
    {
     "ename": "AttributeError",
     "evalue": "module 'matplotlib' has no attribute 'figure'",
     "output_type": "error",
     "traceback": [
      "\u001b[1;31m---------------------------------------------------------------------------\u001b[0m",
      "\u001b[1;31mAttributeError\u001b[0m                            Traceback (most recent call last)",
      "Cell \u001b[1;32mIn[113], line 3\u001b[0m\n\u001b[0;32m      1\u001b[0m \u001b[38;5;66;03m# Plotar o gráfico\u001b[39;00m\n\u001b[0;32m      2\u001b[0m \u001b[38;5;66;03m# Plotar gráfico de barras das notas com Seaborn\u001b[39;00m\n\u001b[1;32m----> 3\u001b[0m \u001b[43mplt\u001b[49m\u001b[38;5;241;43m.\u001b[39;49m\u001b[43mfigure\u001b[49m(figsize\u001b[38;5;241m=\u001b[39m(\u001b[38;5;241m8\u001b[39m, \u001b[38;5;241m6\u001b[39m))  \u001b[38;5;66;03m# Criar uma figura com tamanho específico\u001b[39;00m\n\u001b[0;32m      4\u001b[0m plt\u001b[38;5;241m.\u001b[39mbarplot(data\u001b[38;5;241m=\u001b[39mdf_supermarket, x\u001b[38;5;241m=\u001b[39mi , y\u001b[38;5;241m=\u001b[39mfaturamento_anual, hue\u001b[38;5;241m=\u001b[39m\u001b[38;5;124m'\u001b[39m\u001b[38;5;124malunos\u001b[39m\u001b[38;5;124m'\u001b[39m ,palette\u001b[38;5;241m=\u001b[39m\u001b[38;5;124m'\u001b[39m\u001b[38;5;124mpastel\u001b[39m\u001b[38;5;124m'\u001b[39m)  \u001b[38;5;66;03m# Plotar gráfico de barras com Seaborn\u001b[39;00m\n\u001b[0;32m      5\u001b[0m plt\u001b[38;5;241m.\u001b[39mtitle(\u001b[38;5;124m'\u001b[39m\u001b[38;5;124mGráfico de Barras das Notas - Seaborn\u001b[39m\u001b[38;5;124m'\u001b[39m)  \u001b[38;5;66;03m# Definir título do gráfico\u001b[39;00m\n",
      "File \u001b[1;32mc:\\Users\\DevTarde\\AppData\\Local\\Programs\\Python\\Python312\\Lib\\site-packages\\matplotlib\\_api\\__init__.py:217\u001b[0m, in \u001b[0;36mcaching_module_getattr.<locals>.__getattr__\u001b[1;34m(name)\u001b[0m\n\u001b[0;32m    215\u001b[0m \u001b[38;5;28;01mif\u001b[39;00m name \u001b[38;5;129;01min\u001b[39;00m props:\n\u001b[0;32m    216\u001b[0m     \u001b[38;5;28;01mreturn\u001b[39;00m props[name]\u001b[38;5;241m.\u001b[39m\u001b[38;5;21m__get__\u001b[39m(instance)\n\u001b[1;32m--> 217\u001b[0m \u001b[38;5;28;01mraise\u001b[39;00m \u001b[38;5;167;01mAttributeError\u001b[39;00m(\n\u001b[0;32m    218\u001b[0m     \u001b[38;5;124mf\u001b[39m\u001b[38;5;124m\"\u001b[39m\u001b[38;5;124mmodule \u001b[39m\u001b[38;5;132;01m{\u001b[39;00m\u001b[38;5;28mcls\u001b[39m\u001b[38;5;241m.\u001b[39m\u001b[38;5;18m__module__\u001b[39m\u001b[38;5;132;01m!r}\u001b[39;00m\u001b[38;5;124m has no attribute \u001b[39m\u001b[38;5;132;01m{\u001b[39;00mname\u001b[38;5;132;01m!r}\u001b[39;00m\u001b[38;5;124m\"\u001b[39m)\n",
      "\u001b[1;31mAttributeError\u001b[0m: module 'matplotlib' has no attribute 'figure'"
     ]
    }
   ],
   "source": [
    "categorias = ['Loja1','Loja3','Loja3','Loja4','Loja5','Loja6']\n",
    "# Plotar o gráfico\n",
    "# Plotar gráfico de barras das notas com Seaborn\n",
    "plt.figure(figsize=(8, 6))  # Criar uma figura com tamanho específico\n",
    "plt.bar(categorias, extrair_dados_loja_mes, color='skyblue') # Plotar gráfico de barras com Seaborn\n",
    "plt.title('Gráfico de Barras das Notas - Seaborn')  # Definir título do gráfico\n",
    "plt.xlabel('Alunos')  # Definir rótulo do eixo x\n",
    "plt.ylabel('Notas')  # Definir rótulo do eixo y\n",
    "plt.grid(True)  # Habilitar grade no gráfico\n",
    "plt.show()  # Mostrar o gráfico\n"
   ]
  }
 ],
 "metadata": {
  "kernelspec": {
   "display_name": "Python 3",
   "language": "python",
   "name": "python3"
  },
  "language_info": {
   "codemirror_mode": {
    "name": "ipython",
    "version": 3
   },
   "file_extension": ".py",
   "mimetype": "text/x-python",
   "name": "python",
   "nbconvert_exporter": "python",
   "pygments_lexer": "ipython3",
   "version": "3.12.1"
  }
 },
 "nbformat": 4,
 "nbformat_minor": 2
}
